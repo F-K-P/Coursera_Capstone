{
    "cells": [
        {
            "cell_type": "markdown",
            "metadata": {
                "collapsed": true
            },
            "source": "# Peer-graded Assignment\n### Segmenting and Clustering Neighborhoods in Toronto"
        },
        {
            "cell_type": "code",
            "execution_count": 1,
            "metadata": {},
            "outputs": [],
            "source": "import numpy as np\nimport pandas as pd\nimport urllib.request"
        },
        {
            "cell_type": "markdown",
            "metadata": {},
            "source": "## 1: Scraping the Wikipedia table\n### Function: souptable_to_dataframe()\nCan be used for parsing an html-table contained in a beautiful soup bs.element.tag object.  \nAt least intended to be generic."
        },
        {
            "cell_type": "code",
            "execution_count": 2,
            "metadata": {},
            "outputs": [],
            "source": "import bs4\nfrom bs4 import BeautifulSoup\n\ndef souptable_to_dataframe(souptable):\n\n    if not isinstance(souptable, bs4.element.Tag):\n        print(\"souptable_to_dataframe: Wrong param type!\")\n        return pd.DataFrame()\n    \n    rows = souptable.find_all(\"tr\")\n    \n    if len(rows) < 2:\n        print(\"souptable_to_dataframe: No Table found!\")\n        return pd.DataFrame()\n    \n    # First the num of columns and their headers need to be determined \n    \n    colcount = 0\n    \n    headers = rows[0].find_all('th')\n    colcount = len(headers)\n    \n    columns = []\n    \n    if colcount > 0:\n        for header in headers:\n            columns.append(header.find(text=True).replace('\\n',''))\n        #print(\"Headers: \", ', '.join(columns))\n        \n    # when there are no headers present the first row is used to count the columns\n    # and numeric headers are used\n    \n    else:        \n        print(\"souptable_to_dataframe: No Header found, using first row for determining no. of cols\")\n        headers = rows[0].find_all('tr')\n        colcount = len(headers)\n        columns = range(0,colcount)\n\n    # A 1D Array is filled with the cell values and reshaped later     \n    \n    vals = []\n    \n    rcnt = 0\n    print(colcount)\n    for row in souptable.find_all(\"tr\"):\n        ccnt = 0\n        cols = row.find_all(\"td\")\n        if len(cols) >= colcount:\n            rcnt = rcnt+1 \n            for col in cols:\n                if ccnt < colcount:\n                    vals.append(col.find(text=True).replace('\\n',''))\n                    ccnt = ccnt+1\n                    \n    # Use a dict to create the dataframe with the column as keys \n    # For reshaping and transposing the array has to be transformed to an numpy matrix and later back to a list\n    \n    return pd.DataFrame(dict(zip(columns,np.array(vals).reshape(rcnt,ccnt).transpose().tolist())))"
        },
        {
            "cell_type": "markdown",
            "metadata": {},
            "source": "### Url retrieval\npage content is read into a beatiful soup object"
        },
        {
            "cell_type": "code",
            "execution_count": 3,
            "metadata": {},
            "outputs": [],
            "source": "wikiurl = \"https://en.wikipedia.org/wiki/List_of_postal_codes_of_Canada:_M\" \nwikisoup = BeautifulSoup(urllib.request.urlopen(wikiurl), 'lxml')"
        },
        {
            "cell_type": "markdown",
            "metadata": {},
            "source": "### Table scraping and processing\nSince there's only one table on the page find_all() is used to retrieve it.  \nIt's passed into the souptable_to_dataframe() function and all 'Not assigned' boroughs are removed from the resulting dataframe"
        },
        {
            "cell_type": "code",
            "execution_count": 4,
            "metadata": {},
            "outputs": [
                {
                    "name": "stdout",
                    "output_type": "stream",
                    "text": "3\n"
                }
            ],
            "source": "torontotable=wikisoup.find_all('table', class_='wikitable sortable')\ndf_tor = souptable_to_dataframe(torontotable[0])\ndf_tor.head()"
        },
        {
            "cell_type": "markdown",
            "metadata": {},
            "source": "#### remove all boroughs which are 'Not assigned' from the dataframe "
        },
        {
            "cell_type": "code",
            "execution_count": 5,
            "metadata": {},
            "outputs": [],
            "source": "df_tor = df_tor[df_tor['Borough'] != 'Not assigned']\ndf_tor.head()"
        },
        {
            "cell_type": "markdown",
            "metadata": {},
            "source": "#### replace 'Not assigned' neighborhoods with name of borough\n**(!)** Only necessary for completing the task **(!)** since table currently has no rows where only neighborhood is not assigned "
        },
        {
            "cell_type": "code",
            "execution_count": 19,
            "metadata": {},
            "outputs": [
                {
                    "data": {
                        "text/html": "<div>\n<style scoped>\n    .dataframe tbody tr th:only-of-type {\n        vertical-align: middle;\n    }\n\n    .dataframe tbody tr th {\n        vertical-align: top;\n    }\n\n    .dataframe thead th {\n        text-align: right;\n    }\n</style>\n<table border=\"1\" class=\"dataframe\">\n  <thead>\n    <tr style=\"text-align: right;\">\n      <th></th>\n      <th>Postcode</th>\n      <th>Borough</th>\n      <th>Neighbourhood</th>\n    </tr>\n  </thead>\n  <tbody>\n    <tr>\n      <th>0</th>\n      <td>M1B</td>\n      <td>Scarborough</td>\n      <td>Rouge,Malvern</td>\n    </tr>\n    <tr>\n      <th>1</th>\n      <td>M1C</td>\n      <td>Scarborough</td>\n      <td>Highland Creek,Rouge Hill,Port Union</td>\n    </tr>\n    <tr>\n      <th>2</th>\n      <td>M1E</td>\n      <td>Scarborough</td>\n      <td>Guildwood,Morningside,West Hill</td>\n    </tr>\n    <tr>\n      <th>3</th>\n      <td>M1G</td>\n      <td>Scarborough</td>\n      <td>Woburn</td>\n    </tr>\n    <tr>\n      <th>4</th>\n      <td>M1H</td>\n      <td>Scarborough</td>\n      <td>Cedarbrae</td>\n    </tr>\n  </tbody>\n</table>\n</div>",
                        "text/plain": "  Postcode      Borough                         Neighbourhood\n0      M1B  Scarborough                         Rouge,Malvern\n1      M1C  Scarborough  Highland Creek,Rouge Hill,Port Union\n2      M1E  Scarborough       Guildwood,Morningside,West Hill\n3      M1G  Scarborough                                Woburn\n4      M1H  Scarborough                             Cedarbrae"
                    },
                    "execution_count": 19,
                    "metadata": {},
                    "output_type": "execute_result"
                }
            ],
            "source": "for i,row in df_tor.loc[df_tor['Neighbourhood'] == \"Not assigned\",:].iterrows():\n    df_tor.loc[i,'Neighbourhood'] = row['Borough']\n\ndf_tor.head()"
        },
        {
            "cell_type": "markdown",
            "metadata": {},
            "source": "#### Group by postcode and join Neighbourhoods with ','\nBorough is the same for each group and 'max' selects one "
        },
        {
            "cell_type": "code",
            "execution_count": 7,
            "metadata": {
                "scrolled": false
            },
            "outputs": [
                {
                    "data": {
                        "text/html": "<div>\n<style scoped>\n    .dataframe tbody tr th:only-of-type {\n        vertical-align: middle;\n    }\n\n    .dataframe tbody tr th {\n        vertical-align: top;\n    }\n\n    .dataframe thead th {\n        text-align: right;\n    }\n</style>\n<table border=\"1\" class=\"dataframe\">\n  <thead>\n    <tr style=\"text-align: right;\">\n      <th></th>\n      <th>Postcode</th>\n      <th>Borough</th>\n      <th>Neighbourhood</th>\n    </tr>\n  </thead>\n  <tbody>\n    <tr>\n      <th>0</th>\n      <td>M1B</td>\n      <td>Scarborough</td>\n      <td>Rouge,Malvern</td>\n    </tr>\n    <tr>\n      <th>1</th>\n      <td>M1C</td>\n      <td>Scarborough</td>\n      <td>Highland Creek,Rouge Hill,Port Union</td>\n    </tr>\n    <tr>\n      <th>2</th>\n      <td>M1E</td>\n      <td>Scarborough</td>\n      <td>Guildwood,Morningside,West Hill</td>\n    </tr>\n    <tr>\n      <th>3</th>\n      <td>M1G</td>\n      <td>Scarborough</td>\n      <td>Woburn</td>\n    </tr>\n    <tr>\n      <th>4</th>\n      <td>M1H</td>\n      <td>Scarborough</td>\n      <td>Cedarbrae</td>\n    </tr>\n  </tbody>\n</table>\n</div>",
                        "text/plain": "  Postcode      Borough                         Neighbourhood\n0      M1B  Scarborough                         Rouge,Malvern\n1      M1C  Scarborough  Highland Creek,Rouge Hill,Port Union\n2      M1E  Scarborough       Guildwood,Morningside,West Hill\n3      M1G  Scarborough                                Woburn\n4      M1H  Scarborough                             Cedarbrae"
                    },
                    "execution_count": 7,
                    "metadata": {},
                    "output_type": "execute_result"
                }
            ],
            "source": "df_tor = df_tor.groupby('Postcode').agg({'Borough': 'max', 'Neighbourhood': lambda c: \",\".join(c)}).reset_index()\ndf_tor.head(5)"
        },
        {
            "cell_type": "code",
            "execution_count": 8,
            "metadata": {
                "scrolled": true
            },
            "outputs": [
                {
                    "data": {
                        "text/plain": "(103, 3)"
                    },
                    "execution_count": 8,
                    "metadata": {},
                    "output_type": "execute_result"
                }
            ],
            "source": "df_tor.shape"
        },
        {
            "cell_type": "markdown",
            "metadata": {},
            "source": "# 2: Retrieving geospatial Data\n### A try using pgeocode\nAs you can see I tried geocoder as well but didn't get any results!"
        },
        {
            "cell_type": "code",
            "execution_count": 9,
            "metadata": {
                "scrolled": false
            },
            "outputs": [
                {
                    "name": "stdout",
                    "output_type": "stream",
                    "text": "Requirement already satisfied: pgeocode in /opt/conda/envs/Python36/lib/python3.6/site-packages (0.2.1)\nRequirement already satisfied: pandas in /opt/conda/envs/Python36/lib/python3.6/site-packages (from pgeocode) (0.24.1)\nRequirement already satisfied: requests in /opt/conda/envs/Python36/lib/python3.6/site-packages (from pgeocode) (2.21.0)\nRequirement already satisfied: numpy in /opt/conda/envs/Python36/lib/python3.6/site-packages (from pgeocode) (1.15.4)\nRequirement already satisfied: pytz>=2011k in /opt/conda/envs/Python36/lib/python3.6/site-packages (from pandas->pgeocode) (2018.9)\nRequirement already satisfied: python-dateutil>=2.5.0 in /opt/conda/envs/Python36/lib/python3.6/site-packages (from pandas->pgeocode) (2.7.5)\nRequirement already satisfied: chardet<3.1.0,>=3.0.2 in /opt/conda/envs/Python36/lib/python3.6/site-packages (from requests->pgeocode) (3.0.4)\nRequirement already satisfied: urllib3<1.25,>=1.21.1 in /opt/conda/envs/Python36/lib/python3.6/site-packages (from requests->pgeocode) (1.24.1)\nRequirement already satisfied: idna<2.9,>=2.5 in /opt/conda/envs/Python36/lib/python3.6/site-packages (from requests->pgeocode) (2.8)\nRequirement already satisfied: certifi>=2017.4.17 in /opt/conda/envs/Python36/lib/python3.6/site-packages (from requests->pgeocode) (2019.11.28)\nRequirement already satisfied: six>=1.5 in /opt/conda/envs/Python36/lib/python3.6/site-packages (from python-dateutil>=2.5.0->pandas->pgeocode) (1.12.0)\n"
                }
            ],
            "source": "#!pip install geocoder\n!pip install pgeocode"
        },
        {
            "cell_type": "code",
            "execution_count": 10,
            "metadata": {
                "scrolled": true
            },
            "outputs": [
                {
                    "data": {
                        "text/html": "<div>\n<style scoped>\n    .dataframe tbody tr th:only-of-type {\n        vertical-align: middle;\n    }\n\n    .dataframe tbody tr th {\n        vertical-align: top;\n    }\n\n    .dataframe thead th {\n        text-align: right;\n    }\n</style>\n<table border=\"1\" class=\"dataframe\">\n  <thead>\n    <tr style=\"text-align: right;\">\n      <th></th>\n      <th>postal_code</th>\n      <th>country code</th>\n      <th>place_name</th>\n      <th>state_name</th>\n      <th>state_code</th>\n      <th>county_name</th>\n      <th>county_code</th>\n      <th>community_name</th>\n      <th>community_code</th>\n      <th>latitude</th>\n      <th>longitude</th>\n      <th>accuracy</th>\n    </tr>\n  </thead>\n  <tbody>\n    <tr>\n      <th>0</th>\n      <td>M1B</td>\n      <td>CA</td>\n      <td>Scarborough (Malvern / Rouge River)</td>\n      <td>Ontario</td>\n      <td>ON</td>\n      <td>Scarborough</td>\n      <td>NaN</td>\n      <td>NaN</td>\n      <td>NaN</td>\n      <td>43.8113</td>\n      <td>-79.1930</td>\n      <td>6.0</td>\n    </tr>\n    <tr>\n      <th>0</th>\n      <td>M1C</td>\n      <td>CA</td>\n      <td>Scarborough (Rouge Hill / Port Union / Highlan...</td>\n      <td>Ontario</td>\n      <td>ON</td>\n      <td>Scarborough</td>\n      <td>NaN</td>\n      <td>NaN</td>\n      <td>NaN</td>\n      <td>43.7878</td>\n      <td>-79.1564</td>\n      <td>6.0</td>\n    </tr>\n    <tr>\n      <th>0</th>\n      <td>M1E</td>\n      <td>CA</td>\n      <td>Scarborough (Guildwood / Morningside / Ellesmere)</td>\n      <td>Ontario</td>\n      <td>ON</td>\n      <td>Scarborough</td>\n      <td>NaN</td>\n      <td>NaN</td>\n      <td>NaN</td>\n      <td>43.7678</td>\n      <td>-79.1866</td>\n      <td>6.0</td>\n    </tr>\n    <tr>\n      <th>0</th>\n      <td>M1G</td>\n      <td>CA</td>\n      <td>Scarborough (Woburn)</td>\n      <td>Ontario</td>\n      <td>ON</td>\n      <td>Scarborough</td>\n      <td>NaN</td>\n      <td>NaN</td>\n      <td>NaN</td>\n      <td>43.7712</td>\n      <td>-79.2144</td>\n      <td>6.0</td>\n    </tr>\n    <tr>\n      <th>0</th>\n      <td>M1H</td>\n      <td>CA</td>\n      <td>Scarborough (Cedarbrae)</td>\n      <td>Ontario</td>\n      <td>ON</td>\n      <td>Scarborough</td>\n      <td>NaN</td>\n      <td>NaN</td>\n      <td>NaN</td>\n      <td>43.7686</td>\n      <td>-79.2389</td>\n      <td>6.0</td>\n    </tr>\n  </tbody>\n</table>\n</div>",
                        "text/plain": "  postal_code country code                                         place_name  \\\n0         M1B           CA                Scarborough (Malvern / Rouge River)   \n0         M1C           CA  Scarborough (Rouge Hill / Port Union / Highlan...   \n0         M1E           CA  Scarborough (Guildwood / Morningside / Ellesmere)   \n0         M1G           CA                               Scarborough (Woburn)   \n0         M1H           CA                            Scarborough (Cedarbrae)   \n\n  state_name state_code  county_name  county_code  community_name  \\\n0    Ontario         ON  Scarborough          NaN             NaN   \n0    Ontario         ON  Scarborough          NaN             NaN   \n0    Ontario         ON  Scarborough          NaN             NaN   \n0    Ontario         ON  Scarborough          NaN             NaN   \n0    Ontario         ON  Scarborough          NaN             NaN   \n\n   community_code  latitude  longitude  accuracy  \n0             NaN   43.8113   -79.1930       6.0  \n0             NaN   43.7878   -79.1564       6.0  \n0             NaN   43.7678   -79.1866       6.0  \n0             NaN   43.7712   -79.2144       6.0  \n0             NaN   43.7686   -79.2389       6.0  "
                    },
                    "execution_count": 10,
                    "metadata": {},
                    "output_type": "execute_result"
                }
            ],
            "source": "import pgeocode\n\nnom = pgeocode.Nominatim('ca')\n\ndf_ll = pd.DataFrame(nom.query_postal_code('XXX')).transpose()\ndf_ll = df_ll.drop(0)\n\nfor pcode in df_tor['Postcode']:\n        df_ll = df_ll.append(nom.query_postal_code(pcode))\n\ndf_ll.head()"
        },
        {
            "cell_type": "code",
            "execution_count": 11,
            "metadata": {},
            "outputs": [],
            "source": "df_ll.rename(columns={'postal_code': 'Postcode'}, inplace=True)"
        },
        {
            "cell_type": "code",
            "execution_count": 12,
            "metadata": {},
            "outputs": [
                {
                    "data": {
                        "text/html": "<div>\n<style scoped>\n    .dataframe tbody tr th:only-of-type {\n        vertical-align: middle;\n    }\n\n    .dataframe tbody tr th {\n        vertical-align: top;\n    }\n\n    .dataframe thead th {\n        text-align: right;\n    }\n</style>\n<table border=\"1\" class=\"dataframe\">\n  <thead>\n    <tr style=\"text-align: right;\">\n      <th></th>\n      <th>Postcode</th>\n      <th>Borough</th>\n      <th>Neighbourhood</th>\n      <th>longitude</th>\n      <th>latitude</th>\n    </tr>\n  </thead>\n  <tbody>\n    <tr>\n      <th>0</th>\n      <td>M1B</td>\n      <td>Scarborough</td>\n      <td>Rouge,Malvern</td>\n      <td>-79.1930</td>\n      <td>43.8113</td>\n    </tr>\n    <tr>\n      <th>1</th>\n      <td>M1C</td>\n      <td>Scarborough</td>\n      <td>Highland Creek,Rouge Hill,Port Union</td>\n      <td>-79.1564</td>\n      <td>43.7878</td>\n    </tr>\n    <tr>\n      <th>2</th>\n      <td>M1E</td>\n      <td>Scarborough</td>\n      <td>Guildwood,Morningside,West Hill</td>\n      <td>-79.1866</td>\n      <td>43.7678</td>\n    </tr>\n    <tr>\n      <th>3</th>\n      <td>M1G</td>\n      <td>Scarborough</td>\n      <td>Woburn</td>\n      <td>-79.2144</td>\n      <td>43.7712</td>\n    </tr>\n    <tr>\n      <th>4</th>\n      <td>M1H</td>\n      <td>Scarborough</td>\n      <td>Cedarbrae</td>\n      <td>-79.2389</td>\n      <td>43.7686</td>\n    </tr>\n  </tbody>\n</table>\n</div>",
                        "text/plain": "  Postcode      Borough                         Neighbourhood  longitude  \\\n0      M1B  Scarborough                         Rouge,Malvern   -79.1930   \n1      M1C  Scarborough  Highland Creek,Rouge Hill,Port Union   -79.1564   \n2      M1E  Scarborough       Guildwood,Morningside,West Hill   -79.1866   \n3      M1G  Scarborough                                Woburn   -79.2144   \n4      M1H  Scarborough                             Cedarbrae   -79.2389   \n\n   latitude  \n0   43.8113  \n1   43.7878  \n2   43.7678  \n3   43.7712  \n4   43.7686  "
                    },
                    "execution_count": 12,
                    "metadata": {},
                    "output_type": "execute_result"
                }
            ],
            "source": "df_tor_fin = pd.merge(df_tor, df_ll[['Postcode', 'longitude','latitude']], on='Postcode')\ndf_tor_fin.head()"
        },
        {
            "cell_type": "markdown",
            "metadata": {},
            "source": "### Location Data is missing for Post Gateway :("
        },
        {
            "cell_type": "code",
            "execution_count": 13,
            "metadata": {},
            "outputs": [
                {
                    "data": {
                        "text/html": "<div>\n<style scoped>\n    .dataframe tbody tr th:only-of-type {\n        vertical-align: middle;\n    }\n\n    .dataframe tbody tr th {\n        vertical-align: top;\n    }\n\n    .dataframe thead th {\n        text-align: right;\n    }\n</style>\n<table border=\"1\" class=\"dataframe\">\n  <thead>\n    <tr style=\"text-align: right;\">\n      <th></th>\n      <th>Postcode</th>\n      <th>Borough</th>\n      <th>Neighbourhood</th>\n      <th>longitude</th>\n      <th>latitude</th>\n    </tr>\n  </thead>\n  <tbody>\n    <tr>\n      <th>86</th>\n      <td>M7R</td>\n      <td>Mississauga</td>\n      <td>Canada Post Gateway Processing Centre</td>\n      <td>NaN</td>\n      <td>NaN</td>\n    </tr>\n  </tbody>\n</table>\n</div>",
                        "text/plain": "   Postcode      Borough                          Neighbourhood  longitude  \\\n86      M7R  Mississauga  Canada Post Gateway Processing Centre        NaN   \n\n    latitude  \n86       NaN  "
                    },
                    "execution_count": 13,
                    "metadata": {},
                    "output_type": "execute_result"
                }
            ],
            "source": "df_tor_fin[df_tor_fin['longitude'].isna()]"
        },
        {
            "cell_type": "markdown",
            "metadata": {},
            "source": "### Different approach using an API:"
        },
        {
            "cell_type": "code",
            "execution_count": 14,
            "metadata": {},
            "outputs": [],
            "source": "import requests\n\nll_csv = open(\"ll.csv\",\"w\")\nll_csv.write(\"dunno,dunno2,lat,long\\n\")\n\nurl = \"https://geocoder.ca/\"\n\n# Don't wanna waste too much time here\ncnt = 0\n\nfor pcode in df_tor['Postcode']:\n    address = 'Toronto,{}1x9,Canada'.format(pcode)\n    params = {'locate': address, 'geoit':\"csv\"}\n\n    result = requests.get(url,params=params)\n\n    ll_csv.write(result.content.decode(\"utf-8\")+'\\n')\n    \n    cnt=cnt+1\n    if cnt > 4: \n        break\n\nll_csv.close()"
        },
        {
            "cell_type": "markdown",
            "metadata": {},
            "source": "<h3> The API seems to have only very limited daily requests with a free account :(</h3>\n<p>If you call it from your browser you actually get \n    <a href=\"https://geocoder.ca/?locate=Toronto,M1B1x9,Canada&geoit=csv\">results</a>. My notebook's are already used up:</p>"
        },
        {
            "cell_type": "code",
            "execution_count": 15,
            "metadata": {},
            "outputs": [
                {
                    "data": {
                        "text/html": "<div>\n<style scoped>\n    .dataframe tbody tr th:only-of-type {\n        vertical-align: middle;\n    }\n\n    .dataframe tbody tr th {\n        vertical-align: top;\n    }\n\n    .dataframe thead th {\n        text-align: right;\n    }\n</style>\n<table border=\"1\" class=\"dataframe\">\n  <thead>\n    <tr style=\"text-align: right;\">\n      <th></th>\n      <th>dunno</th>\n      <th>dunno2</th>\n      <th>lat</th>\n      <th>long</th>\n    </tr>\n  </thead>\n  <tbody>\n    <tr>\n      <th>0</th>\n      <td>6</td>\n      <td>Throttled</td>\n      <td>NaN</td>\n      <td>NaN</td>\n    </tr>\n    <tr>\n      <th>1</th>\n      <td>6</td>\n      <td>Throttled</td>\n      <td>NaN</td>\n      <td>NaN</td>\n    </tr>\n    <tr>\n      <th>2</th>\n      <td>6</td>\n      <td>Throttled</td>\n      <td>NaN</td>\n      <td>NaN</td>\n    </tr>\n    <tr>\n      <th>3</th>\n      <td>6</td>\n      <td>Throttled</td>\n      <td>NaN</td>\n      <td>NaN</td>\n    </tr>\n    <tr>\n      <th>4</th>\n      <td>6</td>\n      <td>Throttled</td>\n      <td>NaN</td>\n      <td>NaN</td>\n    </tr>\n  </tbody>\n</table>\n</div>",
                        "text/plain": "   dunno     dunno2  lat  long\n0      6  Throttled  NaN   NaN\n1      6  Throttled  NaN   NaN\n2      6  Throttled  NaN   NaN\n3      6  Throttled  NaN   NaN\n4      6  Throttled  NaN   NaN"
                    },
                    "execution_count": 15,
                    "metadata": {},
                    "output_type": "execute_result"
                }
            ],
            "source": "df_ll = pd.read_csv(\"ll.csv\")\ndf_ll"
        },
        {
            "cell_type": "markdown",
            "metadata": {},
            "source": "### So just take the file from the assignment\nBelow here is a hidden cell containing Watson Studio file importing code with credentials  \nThe resulting DataFrame is **df_data_1**"
        },
        {
            "cell_type": "code",
            "execution_count": 16,
            "metadata": {},
            "outputs": [
                {
                    "data": {
                        "text/html": "<div>\n<style scoped>\n    .dataframe tbody tr th:only-of-type {\n        vertical-align: middle;\n    }\n\n    .dataframe tbody tr th {\n        vertical-align: top;\n    }\n\n    .dataframe thead th {\n        text-align: right;\n    }\n</style>\n<table border=\"1\" class=\"dataframe\">\n  <thead>\n    <tr style=\"text-align: right;\">\n      <th></th>\n      <th>Postal Code</th>\n      <th>Latitude</th>\n      <th>Longitude</th>\n    </tr>\n  </thead>\n  <tbody>\n    <tr>\n      <th>0</th>\n      <td>M1B</td>\n      <td>43.806686</td>\n      <td>-79.194353</td>\n    </tr>\n    <tr>\n      <th>1</th>\n      <td>M1C</td>\n      <td>43.784535</td>\n      <td>-79.160497</td>\n    </tr>\n    <tr>\n      <th>2</th>\n      <td>M1E</td>\n      <td>43.763573</td>\n      <td>-79.188711</td>\n    </tr>\n    <tr>\n      <th>3</th>\n      <td>M1G</td>\n      <td>43.770992</td>\n      <td>-79.216917</td>\n    </tr>\n    <tr>\n      <th>4</th>\n      <td>M1H</td>\n      <td>43.773136</td>\n      <td>-79.239476</td>\n    </tr>\n  </tbody>\n</table>\n</div>",
                        "text/plain": "  Postal Code   Latitude  Longitude\n0         M1B  43.806686 -79.194353\n1         M1C  43.784535 -79.160497\n2         M1E  43.763573 -79.188711\n3         M1G  43.770992 -79.216917\n4         M1H  43.773136 -79.239476"
                    },
                    "execution_count": 16,
                    "metadata": {},
                    "output_type": "execute_result"
                }
            ],
            "source": "# The code was removed by Watson Studio for sharing."
        },
        {
            "cell_type": "markdown",
            "metadata": {},
            "source": " ### Merge the two dataframes"
        },
        {
            "cell_type": "code",
            "execution_count": 17,
            "metadata": {
                "scrolled": true
            },
            "outputs": [
                {
                    "data": {
                        "text/html": "<div>\n<style scoped>\n    .dataframe tbody tr th:only-of-type {\n        vertical-align: middle;\n    }\n\n    .dataframe tbody tr th {\n        vertical-align: top;\n    }\n\n    .dataframe thead th {\n        text-align: right;\n    }\n</style>\n<table border=\"1\" class=\"dataframe\">\n  <thead>\n    <tr style=\"text-align: right;\">\n      <th></th>\n      <th>Postal Code</th>\n      <th>Borough</th>\n      <th>Neighbourhood</th>\n      <th>Latitude</th>\n      <th>Longitude</th>\n    </tr>\n  </thead>\n  <tbody>\n    <tr>\n      <th>0</th>\n      <td>M1B</td>\n      <td>Scarborough</td>\n      <td>Rouge,Malvern</td>\n      <td>43.806686</td>\n      <td>-79.194353</td>\n    </tr>\n    <tr>\n      <th>1</th>\n      <td>M1C</td>\n      <td>Scarborough</td>\n      <td>Highland Creek,Rouge Hill,Port Union</td>\n      <td>43.784535</td>\n      <td>-79.160497</td>\n    </tr>\n    <tr>\n      <th>2</th>\n      <td>M1E</td>\n      <td>Scarborough</td>\n      <td>Guildwood,Morningside,West Hill</td>\n      <td>43.763573</td>\n      <td>-79.188711</td>\n    </tr>\n    <tr>\n      <th>3</th>\n      <td>M1G</td>\n      <td>Scarborough</td>\n      <td>Woburn</td>\n      <td>43.770992</td>\n      <td>-79.216917</td>\n    </tr>\n    <tr>\n      <th>4</th>\n      <td>M1H</td>\n      <td>Scarborough</td>\n      <td>Cedarbrae</td>\n      <td>43.773136</td>\n      <td>-79.239476</td>\n    </tr>\n  </tbody>\n</table>\n</div>",
                        "text/plain": "  Postal Code      Borough                         Neighbourhood   Latitude  \\\n0         M1B  Scarborough                         Rouge,Malvern  43.806686   \n1         M1C  Scarborough  Highland Creek,Rouge Hill,Port Union  43.784535   \n2         M1E  Scarborough       Guildwood,Morningside,West Hill  43.763573   \n3         M1G  Scarborough                                Woburn  43.770992   \n4         M1H  Scarborough                             Cedarbrae  43.773136   \n\n   Longitude  \n0 -79.194353  \n1 -79.160497  \n2 -79.188711  \n3 -79.216917  \n4 -79.239476  "
                    },
                    "execution_count": 17,
                    "metadata": {},
                    "output_type": "execute_result"
                }
            ],
            "source": "df_tor_fin = pd.merge(df_tor.rename(columns={'Postcode': 'Postal Code'}), df_data_1, on=\"Postal Code\")\ndf_tor_fin.head()"
        },
        {
            "cell_type": "markdown",
            "metadata": {},
            "source": "### No missing data :)"
        },
        {
            "cell_type": "code",
            "execution_count": 18,
            "metadata": {},
            "outputs": [
                {
                    "data": {
                        "text/html": "<div>\n<style scoped>\n    .dataframe tbody tr th:only-of-type {\n        vertical-align: middle;\n    }\n\n    .dataframe tbody tr th {\n        vertical-align: top;\n    }\n\n    .dataframe thead th {\n        text-align: right;\n    }\n</style>\n<table border=\"1\" class=\"dataframe\">\n  <thead>\n    <tr style=\"text-align: right;\">\n      <th></th>\n      <th>Postal Code</th>\n      <th>Borough</th>\n      <th>Neighbourhood</th>\n      <th>Latitude</th>\n      <th>Longitude</th>\n    </tr>\n  </thead>\n  <tbody>\n  </tbody>\n</table>\n</div>",
                        "text/plain": "Empty DataFrame\nColumns: [Postal Code, Borough, Neighbourhood, Latitude, Longitude]\nIndex: []"
                    },
                    "execution_count": 18,
                    "metadata": {},
                    "output_type": "execute_result"
                }
            ],
            "source": "df_tor_fin[df_tor_fin['Longitude'].isna()]"
        }
    ],
    "metadata": {
        "kernelspec": {
            "display_name": "Python 3.6",
            "language": "python",
            "name": "python3"
        },
        "language_info": {
            "codemirror_mode": {
                "name": "ipython",
                "version": 3
            },
            "file_extension": ".py",
            "mimetype": "text/x-python",
            "name": "python",
            "nbconvert_exporter": "python",
            "pygments_lexer": "ipython3",
            "version": "3.6.9"
        }
    },
    "nbformat": 4,
    "nbformat_minor": 1
}